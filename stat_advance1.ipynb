{
 "cells": [
  {
   "cell_type": "markdown",
   "id": "c9b7456b-b1e9-4951-a8f8-141ac2a2e466",
   "metadata": {},
   "source": [
    "# question 1\n",
    "The Probability Density Function(PDF) defines the probability function representing the density of a continuous random variable lying between a specific range of values. In other words, the probability density function produces the likelihood of values of the continuous random variable. It is a type of probability distribution function ."
   ]
  },
  {
   "cell_type": "markdown",
   "id": "db6436a2-c96c-4fd4-bf3e-3102fc9f26dc",
   "metadata": {},
   "source": [
    "# question 2\n",
    "The types of Probability distribution are:-\n",
    "\n",
    "1. Normal / Gaussian Distribution.\n",
    "\n",
    "2. Bernoulli Distribution.\n",
    "\n",
    "3. Binomial Distribution.\n",
    "\n",
    "4. Uniform Distribution.\n",
    "\n",
    "5. Poisson Distribution.\n",
    "\n",
    "6. Log Normal Distribution.\n"
   ]
  },
  {
   "cell_type": "markdown",
   "id": "7fbdd9a4-e13b-4b0f-9d7a-67f5ce7c8584",
   "metadata": {},
   "source": [
    "# question 3\n"
   ]
  },
  {
   "cell_type": "code",
   "execution_count": 13,
   "id": "98827560-9d17-4154-9f03-fa0d54343a46",
   "metadata": {},
   "outputs": [
    {
     "name": "stdout",
     "output_type": "stream",
     "text": [
      "0.24197072451914337\n"
     ]
    }
   ],
   "source": [
    "import math\n",
    "\n",
    "def normal_pdf(x, mean, std_dev):\n",
    "    \"\"\"\n",
    "    Calculates the PDF of a normal distribution with given mean and standard deviation at a given point.\n",
    "    \n",
    "    Arguments:\n",
    "    x -- the point at which to evaluate the PDF\n",
    "    mean -- the mean of the normal distribution\n",
    "    std_dev -- the standard deviation of the normal distribution\n",
    "    \n",
    "    Returns:\n",
    "    The value of the PDF at the given point.\n",
    "    \"\"\"\n",
    "    coefficient = 1 / (std_dev * math.sqrt(2 * math.pi))\n",
    "    exponent = -((x - mean) ** 2) / (2 * (std_dev ** 2))\n",
    "    pdf = coefficient * math.exp(exponent)\n",
    "    return pdf\n",
    "\n",
    "\n",
    "mean = 0\n",
    "std_dev = 1\n",
    "x = 1\n",
    "pdf = normal_pdf(x, mean, std_dev)\n",
    "print(pdf)"
   ]
  },
  {
   "cell_type": "markdown",
   "id": "46caba03-5ea9-4e32-8e84-c577c2525f1d",
   "metadata": {},
   "source": [
    "# question 4\n",
    "The properties of the binomial distribution are:\n",
    "\n",
    "1. There are two possible outcomes: true or false, success or failure, yes or no.\n",
    "\n",
    "2. There is ‘n’ number of independent trials or a fixed number of n times repeated trials.\n",
    "\n",
    "3. The probability of success or failure remains the same for each trial.\n",
    "\n",
    "4. Only the number of success is calculated out of n independent trials.\n",
    "\n",
    "5. Every trial is an independent trial, which means the outcome of one trial does not affect the outcome of another trial.\n",
    "\n",
    "Examples-\n",
    "\n",
    "1. Finding the quantity of raw and used materials while making a product.\n",
    "\n",
    "2. Taking a survey of positive and negative reviews from the public for any specific product or place.\n",
    "\n",
    "3. By using the YES/ NO survey, we can check whether the number of persons views the particular channel.\n",
    "\n",
    "4. To find the number of male and female employees in an organisation.\n",
    "\n",
    "5. The number of votes collected by a candidate in an election is counted based on 0 or 1 probability.\n"
   ]
  },
  {
   "cell_type": "markdown",
   "id": "57ccff44-f706-4182-8452-8fbbd5809a3d",
   "metadata": {},
   "source": [
    "# question 5\n"
   ]
  },
  {
   "cell_type": "code",
   "execution_count": 4,
   "id": "24067750-2f36-4e3b-8835-86649ccc235b",
   "metadata": {},
   "outputs": [
    {
     "data": {
      "image/png": "[encoded data removed]",
      "text/plain": [
       "<Figure size 640x480 with 1 Axes>"
      ]
     },
     "metadata": {},
     "output_type": "display_data"
    }
   ],
   "source": [
    "from scipy.stats import binom\n",
    "import matplotlib.pyplot as plt\n",
    "n = 1000\n",
    "p = 0.4\n",
    "# defining list of r values\n",
    "r_values = list(range(n + 1))\n",
    "# list of pmf values\n",
    "dist = [binom.pmf(r, n, p) for r in r_values ]\n",
    "# plotting the graph \n",
    "plt.bar(r_values, dist)\n",
    "plt.show()\n"
   ]
  },
  {
   "cell_type": "markdown",
   "id": "9e3a8417-603e-4df8-a058-bba36f0ed208",
   "metadata": {},
   "source": [
    "# question 6\n"
   ]
  },
  {
   "cell_type": "code",
   "execution_count": 11,
   "id": "c6a2728a-4d31-4298-8d49-1559d163158e",
   "metadata": {},
   "outputs": [
    {
     "data": {
      "text/plain": [
       "0.4211216874428417"
      ]
     },
     "execution_count": 11,
     "metadata": {},
     "output_type": "execute_result"
    }
   ],
   "source": [
    "import math\n",
    "\n",
    "def poisson_cdf(mu, x):\n",
    "    \"\"\"\n",
    "    Returns the cumulative distribution function (CDF) of a Poisson distribution\n",
    "    with mean mu at a given point x.\n",
    "    \"\"\"\n",
    "    cdf = 0.0\n",
    "    for i in range(x + 1):\n",
    "        cdf += math.pow(mu, x) * math.exp(-mu) / math.factorial(i)\n",
    "    return cdf\n",
    "\n",
    "poisson_cdf(5, 2)"
   ]
  },
  {
   "cell_type": "markdown",
   "id": "c3eb91dc-7770-47ba-93a7-f1dbc198c7b2",
   "metadata": {},
   "source": [
    "# question 7"
   ]
  },
  {
   "cell_type": "markdown",
   "id": "a6b811d3-5e6e-4950-8d07-e46c38163393",
   "metadata": {},
   "source": [
    "The differences between binomial and poisson distribution can be drawn clearly on the following grounds:\n",
    "\n",
    "1. The binomial distribution is one in which the probability of repeated number of trials is studied. A probability distribution that gives the count of a number of independent events occur randomly within a given period, is called probability distribution.\n",
    "\n",
    "2. Binomial Distribution is biparametric, i.e. it is featured by two parameters n and p whereas Poisson distribution is uniparametric, i.e. characterised by a single parameter lambda.\n",
    "\n",
    "3. There are a fixed number of attempts in the binomial distribution. On the other hand, an unlimited number of trials are there in a poisson distribution.\n",
    "\n",
    "4. The success probability is constant in binomial distribution but in poisson distribution, there are an extremely small number of success chances.\n",
    "\n",
    "5. In a binomial distribution, there are only two possible outcomes, i.e. success or failure. Conversely, there are an unlimited number of possible outcomes in the case of poisson distribution.\n",
    "\n",
    "6. In binomial distribution Mean > Variance while in poisson distribution mean = variance.\n",
    "\n"
   ]
  },
  {
   "cell_type": "markdown",
   "id": "edd5413b-0874-41a0-bde2-395c8c5abfd6",
   "metadata": {},
   "source": [
    "# question 8\n"
   ]
  },
  {
   "cell_type": "code",
   "execution_count": 8,
   "id": "a0368d5c-d15e-451a-bcef-356cdd7554a6",
   "metadata": {},
   "outputs": [
    {
     "name": "stdout",
     "output_type": "stream",
     "text": [
      "Sample mean: 4.919\n",
      "Sample variance: 5.030439\n"
     ]
    }
   ],
   "source": [
    "import numpy as np\n",
    "\n",
    "# Set the random seed for reproducibility\n",
    "np.random.seed(123)\n",
    "\n",
    "# Generate a random sample of size 1000 from a Poisson distribution with mean 5\n",
    "sample = np.random.poisson(5, size=1000)\n",
    "\n",
    "# Calculate the sample mean and variance\n",
    "sample_mean = np.mean(sample)\n",
    "sample_var = np.var(sample)\n",
    "\n",
    "# Print the results\n",
    "print(\"Sample mean:\", sample_mean)\n",
    "print(\"Sample variance:\", sample_var)"
   ]
  },
  {
   "cell_type": "markdown",
   "id": "3a27e4f4-4672-4ec4-8175-a7eeca0840d6",
   "metadata": {},
   "source": [
    "# question 9\n",
    "In binomial distribution Mean > Variance while in poisson distribution mean = variance.\n"
   ]
  },
  {
   "cell_type": "markdown",
   "id": "d7067398-726f-421e-94bd-9444dcbeb127",
   "metadata": {},
   "source": [
    "# question 10\n",
    "In a normal distribution, also known as a Gaussian distribution, the least frequent data points appear at the tails of the distribution. The tails are the regions of the distribution that are farthest away from the mean.\n",
    "\n",
    "Since the normal distribution is symmetric, there are two tails, one on either side of the mean. The tails contain a small proportion of the total data, and the further away from the mean, the smaller the proportion.\n",
    "\n",
    "In a standard normal distribution with a mean of zero and a standard deviation of one, approximately 68% of the data falls within one standard deviation of the mean, while 95% of the data falls within two standard deviations of the mean. This leaves only 5% of the data outside of the two tails.\n",
    "\n",
    "Therefore, the least frequent data points in a normal distribution are those that are located in the tails of the distribution, which are the regions that are farthest away from the mean.\n",
    "\n",
    "\n",
    "\n"
   ]
  },
  {
   "cell_type": "code",
   "execution_count": null,
   "id": "720ad2a2-7cd6-499d-a4cd-6d3ffb4c92c7",
   "metadata": {},
   "outputs": [],
   "source": []
  }
 ],
 "metadata": {
  "kernelspec": {
   "display_name": "Python 3 (ipykernel)",
   "language": "python",
   "name": "python3"
  },
  "language_info": {
   "codemirror_mode": {
    "name": "ipython",
    "version": 3
   },
   "file_extension": ".py",
   "mimetype": "text/x-python",
   "name": "python",
   "nbconvert_exporter": "python",
   "pygments_lexer": "ipython3",
   "version": "3.10.8"
  }
 },
 "nbformat": 4,
 "nbformat_minor": 5
}
